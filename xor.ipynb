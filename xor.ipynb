{
 "cells": [
  {
   "cell_type": "markdown",
   "metadata": {},
   "source": [
    "# XOR - problem"
   ]
  },
  {
   "cell_type": "markdown",
   "metadata": {},
   "source": [
    "#### one of the early problems in Neural-Network architecture was to mimick a XOR gate using perceptrons. If all the logic gates could be reproduced by neural nets then we could theoretically build a computer  just using neural nets right? Then all kinds of mathematical calculations can be done using neural nets."
   ]
  },
  {
   "cell_type": "markdown",
   "metadata": {},
   "source": [
    "### Logic Gates"
   ]
  },
  {
   "cell_type": "code",
   "execution_count": 12,
   "metadata": {},
   "outputs": [],
   "source": [
    "import numpy as np\n",
    "import pandas as pd\n",
    "import matplotlib.pyplot as plt\n",
    "%matplotlib inline\n",
    "\n",
    "plt.style.use('ggplot')"
   ]
  },
  {
   "cell_type": "code",
   "execution_count": 13,
   "metadata": {},
   "outputs": [],
   "source": [
    "logic_gates = {'A':[0,0,1,1],'B':[0,1,0,1],'AND':[0,0,0,1],'OR':[0,1,1,1],'NAND':[1,1,1,0],'NOR':[1,0,0,0],'XOR':[0,1,1,0],'XNOR':[1,0,0,1]}"
   ]
  },
  {
   "cell_type": "code",
   "execution_count": 14,
   "metadata": {},
   "outputs": [
    {
     "name": "stdout",
     "output_type": "stream",
     "text": [
      "   A  B  AND  OR  NAND  NOR  XOR  XNOR\n",
      "1  0  0    0   0     1    1    0     1\n",
      "2  0  1    0   1     1    0    1     0\n",
      "3  1  0    0   1     1    0    1     0\n",
      "4  1  1    1   1     0    0    0     1\n"
     ]
    }
   ],
   "source": [
    "table = pd.DataFrame(data = logic_gates,columns=['A','B','AND','OR','NAND','NOR','XOR','XNOR'],index=[1,2,3,4])\n",
    "print(table)"
   ]
  },
  {
   "cell_type": "markdown",
   "metadata": {},
   "source": [
    "# XOR "
   ]
  },
  {
   "cell_type": "code",
   "execution_count": 15,
   "metadata": {},
   "outputs": [
    {
     "data": {
      "image/png": "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\n",
      "text/plain": [
       "<Figure size 432x288 with 1 Axes>"
      ]
     },
     "metadata": {},
     "output_type": "display_data"
    }
   ],
   "source": [
    "plt.xlabel('input 1')\n",
    "plt.ylabel('input 2')\n",
    "plt.plot([0,1],[0,1],'ro',label='0')\n",
    "plt.plot([0,1],[1,0],'bo',label='1')\n",
    "plt.legend(loc='center')\n",
    "plt.show()"
   ]
  },
  {
   "cell_type": "markdown",
   "metadata": {},
   "source": [
    "# XNOR"
   ]
  },
  {
   "cell_type": "code",
   "execution_count": 16,
   "metadata": {},
   "outputs": [
    {
     "data": {
      "image/png": "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\n",
      "text/plain": [
       "<Figure size 432x288 with 1 Axes>"
      ]
     },
     "metadata": {},
     "output_type": "display_data"
    }
   ],
   "source": [
    "plt.xlabel('input 1')\n",
    "plt.ylabel('input 2')\n",
    "plt.plot([0,1],[0,1],'bo',label='1')\n",
    "plt.plot([0,1],[1,0],'ro',label='0')\n",
    "plt.legend(loc='center')\n",
    "plt.show()"
   ]
  },
  {
   "cell_type": "markdown",
   "metadata": {},
   "source": [
    "#### As it's clearly seen XOR & XNOR are not linearly separable therefore we can't use a simple perceptron to predict the output. All other gates are linearly separable. Moreover the XOR and XNOR are really the same problem with just class labels reversed which can be seen from the color labels."
   ]
  },
  {
   "cell_type": "markdown",
   "metadata": {},
   "source": [
    "#### Now the question is how do we use more perceptrons to reproduce a XOR gate?"
   ]
  },
  {
   "cell_type": "markdown",
   "metadata": {},
   "source": [
    "#### Let's build different architectures and analyse each ..."
   ]
  },
  {
   "cell_type": "code",
   "execution_count": 17,
   "metadata": {},
   "outputs": [],
   "source": [
    "import tensorflow as tf"
   ]
  },
  {
   "cell_type": "markdown",
   "metadata": {},
   "source": [
    "### ARCHITECTURE 1:1"
   ]
  },
  {
   "cell_type": "code",
   "execution_count": 18,
   "metadata": {},
   "outputs": [],
   "source": [
    "w_1 = tf.Variable(tf.random_normal([2,1]))\n",
    "b_1 = tf.Variable(.14)\n",
    "w_2 = tf.Variable(.13)\n",
    "b_2 = tf.Variable(.12)"
   ]
  },
  {
   "cell_type": "code",
   "execution_count": 19,
   "metadata": {},
   "outputs": [],
   "source": [
    "error = 0\n",
    "for a,b,c in zip(table['A'],table['B'],table['XOR']):\n",
    "    output_1 = tf.nn.relu(tf.add(tf.matmul([[float(a),float(b)]],w_1),b_1))\n",
    "    pred = tf.nn.relu(tf.add(tf.multiply(w_2,output_1),b_2))\n",
    "    error += (pred-c)**2"
   ]
  },
  {
   "cell_type": "code",
   "execution_count": 20,
   "metadata": {},
   "outputs": [],
   "source": [
    "optimizer = tf.train.GradientDescentOptimizer(learning_rate=.1)\n",
    "train = optimizer.minimize(error)"
   ]
  },
  {
   "cell_type": "code",
   "execution_count": 21,
   "metadata": {},
   "outputs": [],
   "source": [
    "init = tf.global_variables_initializer()"
   ]
  },
  {
   "cell_type": "code",
   "execution_count": 22,
   "metadata": {},
   "outputs": [
    {
     "name": "stdout",
     "output_type": "stream",
     "text": [
      "A:0 B:0 C:0 pred:1.0\n",
      "A:0 B:1 C:1 pred:1.0\n",
      "A:1 B:0 C:1 pred:1.0\n",
      "A:1 B:1 C:0 pred:1.0\n"
     ]
    }
   ],
   "source": [
    "with tf.Session() as sess:\n",
    "    sess.run(init)\n",
    "    training_steps = 10000\n",
    "    for i in range(training_steps):\n",
    "        sess.run(train)\n",
    "    for a,b,c in zip(table['A'],table['B'],table['XOR']):\n",
    "        output_1 = tf.nn.sigmoid(tf.add(tf.matmul([[float(a),float(b)]],w_1),b_1))\n",
    "        pred = tf.nn.sigmoid(tf.add(tf.multiply(w_2,output_1),b_2))\n",
    "        print('A:{0} B:{1} C:{2} pred:{3}'.format(a,b,c,round(sess.run(pred[0][0]))))\n",
    "    "
   ]
  },
  {
   "cell_type": "markdown",
   "metadata": {},
   "source": [
    "our prediction is sigmoid(d * sigmoid(ax + by + c) + e). It's some what a stupid combination which doesn't make any sense. I won't go into detail analysis but the point is throwing in stupid architecture and expecting it to work doesn't solve the problem."
   ]
  },
  {
   "cell_type": "markdown",
   "metadata": {},
   "source": [
    "#### Let's take the solution of XOR problem and analyse why it works. May be that will provide us with hints for how we should go about building the network architecture for a given problem."
   ]
  }
 ],
 "metadata": {
  "kernelspec": {
   "display_name": "Python 3",
   "language": "python",
   "name": "python3"
  },
  "language_info": {
   "codemirror_mode": {
    "name": "ipython",
    "version": 2
   },
   "file_extension": ".py",
   "mimetype": "text/x-python",
   "name": "python",
   "nbconvert_exporter": "python",
   "pygments_lexer": "ipython2",
   "version": "2.7.14"
  }
 },
 "nbformat": 4,
 "nbformat_minor": 2
}
n
